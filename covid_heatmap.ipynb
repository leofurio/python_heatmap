{
  "cells": [
    {
      "cell_type": "markdown",
      "metadata": {},
      "source": [
        "# COVID-19 Bubble Map\n",
        "\n",
        "Generate an interactive heatmap of confirmed COVID-19 cases using data from the [Johns Hopkins University CSSE](https://github.com/CSSEGISandData/COVID-19) repository."
      ]
    },
    {
      "cell_type": "code",
      "metadata": {},
      "execution_count": null,
      "outputs": [],
      "source": [
        "import pandas as pd\n",
        "import folium\n",
        "from folium.plugins import TimestampedGeoJson\n",
        "from math import sqrt\n",
        "import json\n"
      ]
    },
    {
      "cell_type": "code",
      "metadata": {},
      "execution_count": null,
      "outputs": [],
      "source": [
        "URL = \"https://raw.githubusercontent.com/CSSEGISandData/COVID-19/master/csse_covid_19_data/csse_covid_19_time_series/time_series_covid19_confirmed_global.csv\""
      ]
    },
    {
      "cell_type": "code",
      "metadata": {},
      "execution_count": null,
      "outputs": [],
      "source": [
        "data = pd.read_csv(URL)\n",
        "date_cols = data.columns[4:]\n",
        "grouped = data.groupby(['Lat', 'Long'])[date_cols].sum().reset_index()\n",
        "iso_dates = pd.to_datetime(date_cols).strftime('%Y-%m-%d')\n",
        "features = []\n",
        "table_data = {iso: [] for iso in iso_dates}\n",
        "scale = 100\n",
        "for _, row in grouped.iterrows():\n",
        "    lat = row['Lat']\n",
        "    lon = row['Long']\n",
        "    for date, iso in zip(date_cols, iso_dates):\n",
        "        count = row[date]\n",
        "        if count <= 0:\n",
        "            continue\n",
        "        radius = max(2, sqrt(count) / scale)\n",
        "        features.append({'type': 'Feature', 'geometry': {'type': 'Point', 'coordinates': [lon, lat]}, 'properties': {'time': iso, 'icon': 'circle', 'iconstyle': {'fillColor': 'red', 'color': 'red', 'fillOpacity': 0.6, 'opacity': 0.6, 'radius': radius}, 'popup': f'Cases: {int(count)}'}})\n",
        "        table_data[iso].append({'Lat': float(lat), 'Long': float(lon), 'Cases': int(count)})\n"
      ]
    },
    {
      "cell_type": "code",
      "metadata": {},
      "execution_count": null,
      "outputs": [],
      "source": [
        "b = folium.Map(location=[0, 0], zoom_start=2)\n",
        "TimestampedGeoJson({'type': 'FeatureCollection', 'features': features}, period='P1D', add_last_point=False, auto_play=False).add_to(b)\n",
        "table_json = json.dumps(table_data)\n",
        "options = ''.join(f'<option value=\"{d}\">{d}</option>' for d in iso_dates)\n",
        "table_html = f\"\"\"\n",
        "<div id=\"table-container\">\n",
        "  <label for=\"date-select\">Date:</label>\n",
        "  <select id=\"date-select\">{options}</select>\n",
        "  <table id=\"data-table\">\n",
        "    <thead><tr><th>Latitude</th><th>Longitude</th><th>Cases</th></tr></thead>\n",
        "    <tbody id=\"data-tbody\"></tbody>\n",
        "  </table>\n",
        "</div>\n",
        "<style>\n",
        "#table-container {width:80%;margin:20px auto;}\n",
        "#data-table {width:100%;border-collapse:collapse;}\n",
        "#data-table th,#data-table td {border:1px solid #ccc;padding:4px;text-align:right;}\n",
        "#data-table th {background-color:#f0f0f0;}\n",
        "</style>\n",
        "<script>\n",
        "var tableData = {table_json};\n",
        "var select = document.getElementById('date-select');\n",
        "function render(date) {\n",
        "  var body = document.getElementById('data-tbody');\n",
        "  body.innerHTML = '';\n",
        "  (tableData[date] || []).forEach(function(row) {\n",
        "    var tr = document.createElement('tr');\n",
        "    tr.innerHTML = '<td>'+row.Lat+'</td><td>'+row.Long+'</td><td>'+row.Cases+'</td>';\n",
        "    body.appendChild(tr);\n",
        "  });\n",
        "}\n",
        "select.addEventListener('change', function() {render(this.value);});\n",
        "render(select.value);\n",
        "</script>\n",
        "\"\"\"\n",
        "b.get_root().html.add_child(folium.Element(table_html))\n",
        "b.save('covid_dashboard.html')\n",
        "print(f'Dashboard saved to covid_dashboard.html for dates {date_cols[0]} to {date_cols[-1]}.')\n",
        "b\n"
      ]
    }
  ],
  "metadata": {
    "kernelspec": {
      "display_name": "Python 3",
      "language": "python",
      "name": "python3"
    },
    "language_info": {
      "name": "python",
      "version": "3.8"
    }
  },
  "nbformat": 4,
  "nbformat_minor": 4
}
