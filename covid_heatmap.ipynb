{
 "cells": [
  {
   "cell_type": "markdown",
   "metadata": {},
   "source": [
    "# COVID-19 Heatmap\n",
    "\n",
    "Generate an interactive heatmap of confirmed COVID-19 cases using data from the [Johns Hopkins University CSSE](https://github.com/CSSEGISandData/COVID-19) repository."
   ]
  },
  {
   "cell_type": "code",
   "metadata": {},
   "execution_count": null,
   "outputs": [],
   "source": [
    "import pandas as pd\n",
    "import folium\n",
    "from folium.plugins import HeatMap"
   ]
  },
  {
   "cell_type": "code",
   "metadata": {},
   "execution_count": null,
   "outputs": [],
   "source": [
    "URL = \"https://raw.githubusercontent.com/CSSEGISandData/COVID-19/master/csse_covid_19_data/csse_covid_19_time_series/time_series_covid19_confirmed_global.csv\""
   ]
  },
  {
   "cell_type": "code",
   "metadata": {},
   "execution_count": null,
   "outputs": [],
   "source": [
    "data = pd.read_csv(URL)\n",
    "latest_date = data.columns[-1]\n",
    "df = data[['Lat', 'Long', latest_date]].copy()\n",
    "df = df.dropna(subset=['Lat', 'Long'])\n",
    "df = df[df[latest_date] > 0]\n",
    "heat_data = df.values.tolist()"
   ]
  },
  {
   "cell_type": "code",
   "metadata": {},
   "execution_count": null,
   "outputs": [],
   "source": [
    "m = folium.Map(location=[0, 0], zoom_start=2)\n",
    "HeatMap(heat_data, radius=8).add_to(m)\n",
    "m.save('covid_heatmap.html')\n",
    "print(f'Heatmap saved to covid_heatmap.html for date {latest_date}.')\n",
    "m"
   ]
  }
 ],
 "metadata": {
  "kernelspec": {
   "display_name": "Python 3",
   "language": "python",
   "name": "python3"
  },
  "language_info": {
   "name": "python",
   "version": "3.8"
  }
 },
 "nbformat": 4,
 "nbformat_minor": 4
}
