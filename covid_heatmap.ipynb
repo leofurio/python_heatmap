{
 "cells": [
  {
   "cell_type": "markdown",  
   "metadata": {},
   "source": [
    "# COVID-19 Bubble Map\n",
    "\n",
    "Generate an interactive heatmap of confirmed COVID-19 cases using data from the [Johns Hopkins University CSSE](https://github.com/CSSEGISandData/COVID-19) repository."
   ]
  },
  {
   "cell_type": "code",
   "metadata": {},
   "execution_count": null,
   "outputs": [],
   "source": [
    "import pandas as pd\n",
    "import folium\n",
    "from folium.plugins import TimestampedGeoJson\n",
    "from math import sqrt\n"
   ]
  },
  {
   "cell_type": "code",
   "metadata": {},
   "execution_count": null,
   "outputs": [],
   "source": [
    "URL = \"https://raw.githubusercontent.com/CSSEGISandData/COVID-19/master/csse_covid_19_data/csse_covid_19_time_series/time_series_covid19_confirmed_global.csv\""
   ]
  },
  {
   "cell_type": "code",
   "metadata": {},
   "execution_count": null,
   "outputs": [],
   "source": [
    "data = pd.read_csv(URL)\n",
    "date_cols = data.columns[4:]\n",
    "grouped = data.groupby(['Lat', 'Long'])[date_cols].sum().reset_index()\n",
    "iso_dates = pd.to_datetime(date_cols).strftime('%Y-%m-%d')\n",
    "features = []\n",
    "scale = 100\n",
    "for _, row in grouped.iterrows():\n",
    "    lat = row['Lat']\n",
    "    lon = row['Long']\n",
    "    for date, iso in zip(date_cols, iso_dates):\n",
    "        count = row[date]\n",
    "        if count <= 0:\n",
    "            continue\n",
    "        radius = max(2, sqrt(count) / scale)\n",
    "        features.append({\"type\": \"Feature\", \"geometry\": {\"type\": \"Point\", \"coordinates\": [lon, lat]}, \"properties\": {\"time\": iso, \"icon\": \"circle\", \"iconstyle\": {\"fillColor\": \"red\", \"color\": \"red\", \"fillOpacity\": 0.6, \"opacity\": 0.6, \"radius\": radius}, \"popup\": f'Cases: {int(count)}'}})\n"
   ]
  },
  {
   "cell_type": "code",
   "metadata": {},
   "execution_count": null,
   "outputs": [],
   "source": [
    "m = folium.Map(location=[0, 0], zoom_start=2)\n",
    "TimestampedGeoJson({'type': 'FeatureCollection', 'features': features}, period='P1D', add_last_point=False, auto_play=False).add_to(m)\n",
    "m.save('covid_bubble_map.html')\n",
    "print(f'Bubble map saved to covid_bubble_map.html for dates {date_cols[0]} to {date_cols[-1]}.')\n",
    "m"
   ]
  }
 ],
 "metadata": {
  "kernelspec": {
   "display_name": "Python 3",
   "language": "python",
   "name": "python3"
  },
  "language_info": {
   "name": "python",
   "version": "3.8"
  }
 },
 "nbformat": 4,
 "nbformat_minor": 4
}
