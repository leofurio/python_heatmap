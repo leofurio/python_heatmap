{
 "cells": [
  {
   "cell_type": "markdown",
   "metadata": {},
   "source": [
    "# COVID-19 Heatmap\n",
    "\n",
    "Generate an interactive heatmap of confirmed COVID-19 cases using data from the [Johns Hopkins University CSSE](https://github.com/CSSEGISandData/COVID-19) repository."
   ]
  },
  {
   "cell_type": "code",
   "metadata": {},
   "execution_count": null,
   "outputs": [],
   "source": [
    "import pandas as pd\n",
    "import folium\n",
    "from folium.plugins import HeatMapWithTime"
   ]
  },
  {
   "cell_type": "code",
   "metadata": {},
   "execution_count": null,
   "outputs": [],
   "source": [
    "URL = \"https://raw.githubusercontent.com/CSSEGISandData/COVID-19/master/csse_covid_19_data/csse_covid_19_time_series/time_series_covid19_confirmed_global.csv\""
   ]
  },
  {
   "cell_type": "code",
   "metadata": {},
   "execution_count": null,
   "outputs": [],
   "source": [
    "data = pd.read_csv(URL)\n",
    "date_cols = data.columns[4:]\n",
    "heat_data = []\n",
    "for date in date_cols:\n",
    "    df = data[['Lat', 'Long', date]].copy()\n",
    "    df = df.dropna(subset=['Lat', 'Long'])\n",
    "    df = df[df[date] > 0]\n",
    "    heat_data.append(df.values.tolist())"
  ]
 },
 {
  "cell_type": "code",
  "metadata": {},
  "execution_count": null,
  "outputs": [],
  "source": [
    "m = folium.Map(location=[0, 0], zoom_start=2)\n",
    "HeatMapWithTime(heat_data, index=date_cols.tolist(), radius=8, auto_play=False).add_to(m)\n",
    "m.save('covid_heatmap.html')\n",
    "print(f'Heatmap saved to covid_heatmap.html for dates {date_cols[0]} to {date_cols[-1]}.')\n",
    "m"
  ]
 }
 ],
 "metadata": {
  "kernelspec": {
   "display_name": "Python 3",
   "language": "python",
   "name": "python3"
  },
  "language_info": {
   "name": "python",
   "version": "3.8"
  }
 },
 "nbformat": 4,
 "nbformat_minor": 4
}
